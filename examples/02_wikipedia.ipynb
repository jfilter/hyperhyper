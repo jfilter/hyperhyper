{
 "cells": [
  {
   "cell_type": "code",
   "execution_count": 1,
   "metadata": {},
   "outputs": [],
   "source": [
    "# hyerhyper is mainly for constructing word embeddings if you you don't have enough data. For large corpora, use word2vec or fastText. However, it still (somewhat) works for Wikipedia.\n",
    "\n",
    "# A dump of the English wikipedia is quite large. So preprocessing may take a while (hours or days).\n",
    "# 1. download wikipedia dump (https://dumps.wikimedia.org/enwiki/), wget https://dumps.wikimedia.org/enwiki/latest/enwiki-latest-pages-articles.xml.bz2\n",
    "# 2. `python WikiExtractor.py enwiki-latest-pages-articles.xml -o en-wiki` WikiExtraktor (https://github.com/attardi/wikiextractor)\n",
    "# 3. i=0; for f in en-wiki/*/*; do cp $f en-wiki-flat/$i.txt && ((i++)) && echo $i; done"
   ]
  },
  {
   "cell_type": "code",
   "execution_count": 2,
   "metadata": {},
   "outputs": [],
   "source": [
    "import hyperhyper as hy"
   ]
  },
  {
   "cell_type": "code",
   "execution_count": null,
   "metadata": {},
   "outputs": [],
   "source": [
    "# We change the default preprocessing to speed things up. An sentence in this case means a whole article. \n",
    "# This is quite dirty, but proper preprocessing (splitting into sentences, removing stop words) takes more time."
   ]
  },
  {
   "cell_type": "code",
   "execution_count": 3,
   "metadata": {},
   "outputs": [
    {
     "name": "stderr",
     "output_type": "stream",
     "text": [
      "build up vocab: 100%|██████████| 13039/13039 [28:24<00:00,  7.65it/s]\n",
      "texts to ids: 100%|██████████| 13039/13039 [13:45<00:00, 15.80it/s]\n"
     ]
    }
   ],
   "source": [
    "corpus = hy.Corpus.from_text_files('/mnt/data/datasets/wiki/en-wiki-flat', preproc_func=hy.tokenize_texts) "
   ]
  },
  {
   "cell_type": "code",
   "execution_count": 5,
   "metadata": {},
   "outputs": [
    {
     "name": "stderr",
     "output_type": "stream",
     "text": [
      "/home/filter/anaconda3/envs/hyperhyper/lib/python3.6/site-packages/smart_open/smart_open_lib.py:398: UserWarning: This function is deprecated, use smart_open.open instead. See the migration notes for details: https://github.com/RaRe-Technologies/smart_open/blob/master/README.rst#migrating-to-the-new-open-function\n",
      "  'See the migration notes for details: %s' % _MIGRATION_NOTES_URL\n"
     ]
    }
   ],
   "source": [
    "bunch = hy.Bunch(\"/mnt/data/datasets/wiki/wikibunch\", corpus) # saves data (corpus) to disk"
   ]
  },
  {
   "cell_type": "code",
   "execution_count": null,
   "metadata": {},
   "outputs": [],
   "source": [
    "bunch = hy.Bunch(\"/mnt/data/datasets/wiki/wikibunch\") # load already saved bunch"
   ]
  },
  {
   "cell_type": "code",
   "execution_count": 6,
   "metadata": {},
   "outputs": [
    {
     "name": "stderr",
     "output_type": "stream",
     "text": [
      "generating pairs:   0%|          | 0/13039 [00:00<?, ?it/s]"
     ]
    },
    {
     "name": "stdout",
     "output_type": "stream",
     "text": [
      "create new pmi\n",
      "create new pair counts\n"
     ]
    },
    {
     "name": "stderr",
     "output_type": "stream",
     "text": [
      "generating pairs: 100%|██████████| 13039/13039 [2:37:26<00:00,  1.38it/s]\n"
     ]
    },
    {
     "name": "stdout",
     "output_type": "stream",
     "text": [
      "subsampling applied to 0.98836 of the tokens\n"
     ]
    },
    {
     "name": "stderr",
     "output_type": "stream",
     "text": [
      "/home/filter/code/hyperhyper/hyperhyper/pmi.py:22: RuntimeWarning: divide by zero encountered in reciprocal\n",
      "  sum_w = np.reciprocal(sum_w)\n",
      "/home/filter/code/hyperhyper/hyperhyper/pmi.py:23: RuntimeWarning: divide by zero encountered in reciprocal\n",
      "  sum_c = np.reciprocal(sum_c)\n",
      "/home/filter/code/hyperhyper/hyperhyper/pmi.py:70: RuntimeWarning: divide by zero encountered in reciprocal\n",
      "  norm = np.reciprocal(np.sqrt(np.array(m2.sum(axis=1))[:, 0]))\n",
      "/home/filter/anaconda3/envs/hyperhyper/lib/python3.6/site-packages/scipy/stats/stats.py:248: RuntimeWarning: The input array could not be properly checked for nan values. nan values will be ignored.\n",
      "  \"values. nan values will be ignored.\", RuntimeWarning)\n"
     ]
    }
   ],
   "source": [
    "_, results = bunch.pmi()"
   ]
  },
  {
   "cell_type": "code",
   "execution_count": 7,
   "metadata": {},
   "outputs": [
    {
     "data": {
      "text/plain": [
       "{'micro': 0.3173059147797395,\n",
       " 'macro': 0.4969743403889793,\n",
       " 'results': [{'name': 'en_bruni_men',\n",
       "   'score': 0.19761923248494612,\n",
       "   'oov': 0.010333333333333333,\n",
       "   'fullscore': 0.19557716708260167},\n",
       "  {'name': 'en_ws353',\n",
       "   'score': 0.56679594670363,\n",
       "   'oov': 0.0028328611898017,\n",
       "   'fullscore': 0.5651902924636764},\n",
       "  {'name': 'en_ws353_relatedness',\n",
       "   'score': 0.5155747896548892,\n",
       "   'oov': 0.0,\n",
       "   'fullscore': 0.5155747896548892},\n",
       "  {'name': 'en_radinsky_mturk',\n",
       "   'score': 0.6417782180665873,\n",
       "   'oov': 0.010452961672473868,\n",
       "   'fullscore': 0.6350697349509087},\n",
       "  {'name': 'en_luong_rare',\n",
       "   'score': 0.39624839611860396,\n",
       "   'oov': 0.6548672566371682,\n",
       "   'fullscore': 0.13675829600553588},\n",
       "  {'name': 'en_ws353_similarity',\n",
       "   'score': 0.6638294593052194,\n",
       "   'oov': 0.0049261083743842365,\n",
       "   'fullscore': 0.6605593634465731}]}"
      ]
     },
     "execution_count": 7,
     "metadata": {},
     "output_type": "execute_result"
    }
   ],
   "source": [
    "results"
   ]
  },
  {
   "cell_type": "code",
   "execution_count": 8,
   "metadata": {},
   "outputs": [
    {
     "name": "stdout",
     "output_type": "stream",
     "text": [
      "creating new svd\n"
     ]
    }
   ],
   "source": [
    "vectors, results = bunch.svd(keyed_vectors=True) # using gensims' KeyedVectors, https://radimrehurek.com/gensim/models/keyedvectors.html"
   ]
  },
  {
   "cell_type": "code",
   "execution_count": 9,
   "metadata": {},
   "outputs": [
    {
     "data": {
      "text/plain": [
       "{'micro': 0.410857059100136,\n",
       " 'macro': 0.5784650369278442,\n",
       " 'results': [{'name': 'en_bruni_men',\n",
       "   'score': 0.2966850790462694,\n",
       "   'oov': 0.010333333333333333,\n",
       "   'fullscore': 0.29361933322945794},\n",
       "  {'name': 'en_ws353',\n",
       "   'score': 0.7027647632507101,\n",
       "   'oov': 0.0028328611898017,\n",
       "   'fullscore': 0.700773928227337},\n",
       "  {'name': 'en_ws353_relatedness',\n",
       "   'score': 0.6463844612888198,\n",
       "   'oov': 0.0,\n",
       "   'fullscore': 0.6463844612888198},\n",
       "  {'name': 'en_radinsky_mturk',\n",
       "   'score': 0.5645760761416896,\n",
       "   'oov': 0.010452961672473868,\n",
       "   'fullscore': 0.5586745840565848},\n",
       "  {'name': 'en_luong_rare',\n",
       "   'score': 0.5000680882050135,\n",
       "   'oov': 0.6548672566371682,\n",
       "   'fullscore': 0.17258987115040286},\n",
       "  {'name': 'en_ws353_similarity',\n",
       "   'score': 0.760311753634563,\n",
       "   'oov': 0.0049261083743842365,\n",
       "   'fullscore': 0.7565663755378411}]}"
      ]
     },
     "execution_count": 9,
     "metadata": {},
     "output_type": "execute_result"
    }
   ],
   "source": [
    "results"
   ]
  },
  {
   "cell_type": "code",
   "execution_count": 10,
   "metadata": {},
   "outputs": [
    {
     "data": {
      "text/plain": [
       "[('munich', 0.8728309869766235),\n",
       " ('hamburg', 0.8400862216949463),\n",
       " ('frankfurt', 0.8366657495498657),\n",
       " ('dresden', 0.8209679126739502),\n",
       " ('leipzig', 0.8084107637405396),\n",
       " ('stuttgart', 0.7912859320640564),\n",
       " ('düsseldorf', 0.7777412533760071),\n",
       " ('bonn', 0.7646675109863281),\n",
       " ('karlsruhe', 0.7132641673088074),\n",
       " ('freiburg', 0.6984316110610962)]"
      ]
     },
     "execution_count": 10,
     "metadata": {},
     "output_type": "execute_result"
    }
   ],
   "source": [
    "vectors.most_similar('berlin')"
   ]
  },
  {
   "cell_type": "code",
   "execution_count": null,
   "metadata": {},
   "outputs": [],
   "source": []
  },
  {
   "cell_type": "code",
   "execution_count": null,
   "metadata": {},
   "outputs": [],
   "source": []
  }
 ],
 "metadata": {
  "kernelspec": {
   "display_name": "Python 3",
   "language": "python",
   "name": "python3"
  },
  "language_info": {
   "codemirror_mode": {
    "name": "ipython",
    "version": 3
   },
   "file_extension": ".py",
   "mimetype": "text/x-python",
   "name": "python",
   "nbconvert_exporter": "python",
   "pygments_lexer": "ipython3",
   "version": "3.6.8"
  }
 },
 "nbformat": 4,
 "nbformat_minor": 2
}
