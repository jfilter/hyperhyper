{
 "cells": [
  {
   "cell_type": "code",
   "execution_count": 3,
   "metadata": {},
   "outputs": [
    {
     "name": "stdout",
     "output_type": "stream",
     "text": [
      "--2020-02-27 20:43:33--  http://www.statmt.org/wmt14/training-monolingual-news-crawl/news.2010.en.shuffled.gz\n",
      "Resolving www.statmt.org (www.statmt.org)... 129.215.197.184\n",
      "Connecting to www.statmt.org (www.statmt.org)|129.215.197.184|:80... connected.\n",
      "HTTP request sent, awaiting response... 200 OK\n",
      "Length: 360828816 (344M) [application/x-gzip]\n",
      "Saving to: ‘news.2010.en.shuffled.gz’\n",
      "\n",
      "news.2010.en.shuffl 100%[===================>] 344,11M   439KB/s    in 16m 33s \n",
      "\n",
      "2020-02-27 21:00:06 (355 KB/s) - ‘news.2010.en.shuffled.gz’ saved [360828816/360828816]\n",
      "\n"
     ]
    }
   ],
   "source": [
    "# get data, a text file with one sentence per line\n",
    "! wget http://www.statmt.org/wmt14/training-monolingual-news-crawl/news.2010.en.shuffled.gz && gzip -d news.2010.en.shuffled.gz"
   ]
  },
  {
   "cell_type": "code",
   "execution_count": 1,
   "metadata": {},
   "outputs": [],
   "source": [
    "import hyperhyper as hy"
   ]
  },
  {
   "cell_type": "code",
   "execution_count": 2,
   "metadata": {},
   "outputs": [
    {
     "name": "stderr",
     "output_type": "stream",
     "text": [
      "transform to indices: 100%|██████████| 6797225/6797225 [01:05<00:00, 103953.79it/s]\n"
     ]
    }
   ],
   "source": [
    "corpus = hy.Corpus.from_file('news.2010.en.shuffled') # this may take a while"
   ]
  },
  {
   "cell_type": "code",
   "execution_count": 3,
   "metadata": {},
   "outputs": [
    {
     "name": "stderr",
     "output_type": "stream",
     "text": [
      "/home/filter/anaconda3/envs/hyperhyper/lib/python3.6/site-packages/smart_open/smart_open_lib.py:398: UserWarning: This function is deprecated, use smart_open.open instead. See the migration notes for details: https://github.com/RaRe-Technologies/smart_open/blob/master/README.rst#migrating-to-the-new-open-function\n",
      "  'See the migration notes for details: %s' % _MIGRATION_NOTES_URL\n"
     ]
    }
   ],
   "source": [
    "bunch = hy.Bunch(\"news_bunch\", corpus) # saves data (corpus) to disk"
   ]
  },
  {
   "cell_type": "code",
   "execution_count": 4,
   "metadata": {},
   "outputs": [],
   "source": [
    "bunch = hy.Bunch(\"news_bunch\") # load already saved bunch"
   ]
  },
  {
   "cell_type": "code",
   "execution_count": 5,
   "metadata": {},
   "outputs": [
    {
     "name": "stderr",
     "output_type": "stream",
     "text": [
      "generating pairs:   0%|          | 0/68 [00:00<?, ?it/s]"
     ]
    },
    {
     "name": "stdout",
     "output_type": "stream",
     "text": [
      "create new pmi\n",
      "create new pair counts\n"
     ]
    },
    {
     "name": "stderr",
     "output_type": "stream",
     "text": [
      "generating pairs: 100%|██████████| 68/68 [04:49<00:00,  4.83s/it]\n"
     ]
    },
    {
     "name": "stdout",
     "output_type": "stream",
     "text": [
      "subsampling applied to 0.84438 of the tokens\n"
     ]
    },
    {
     "name": "stderr",
     "output_type": "stream",
     "text": [
      "/home/filter/anaconda3/envs/hyperhyper/lib/python3.6/site-packages/scipy/stats/stats.py:248: RuntimeWarning: The input array could not be properly checked for nan values. nan values will be ignored.\n",
      "  \"values. nan values will be ignored.\", RuntimeWarning)\n"
     ]
    }
   ],
   "source": [
    "_, results = bunch.pmi()"
   ]
  },
  {
   "cell_type": "code",
   "execution_count": 6,
   "metadata": {},
   "outputs": [],
   "source": [
    "_, results = bunch.pmi() # all results are cached on disk, no need to compute the same configuration twice"
   ]
  },
  {
   "cell_type": "code",
   "execution_count": 7,
   "metadata": {},
   "outputs": [
    {
     "data": {
      "text/plain": [
       "{'micro': 0.267872457927308,\n",
       " 'macro': 0.4341605801936888,\n",
       " 'results': [{'name': 'en_bruni_men',\n",
       "   'score': 0.15717451527190343,\n",
       "   'oov': 0.022,\n",
       "   'fullscore': 0.15371667593592156},\n",
       "  {'name': 'en_ws353',\n",
       "   'score': 0.48913996990928227,\n",
       "   'oov': 0.014164305949008499,\n",
       "   'fullscore': 0.48221164172359837},\n",
       "  {'name': 'en_ws353_relatedness',\n",
       "   'score': 0.4576555965263546,\n",
       "   'oov': 0.003968253968253968,\n",
       "   'fullscore': 0.45583950288934527},\n",
       "  {'name': 'en_radinsky_mturk',\n",
       "   'score': 0.5751285213411367,\n",
       "   'oov': 0.017421602787456445,\n",
       "   'fullscore': 0.5651088606905943},\n",
       "  {'name': 'en_luong_rare',\n",
       "   'score': 0.3412283258632189,\n",
       "   'oov': 0.6617502458210422,\n",
       "   'fullscore': 0.11542039734213108},\n",
       "  {'name': 'en_ws353_similarity',\n",
       "   'score': 0.584636552250237,\n",
       "   'oov': 0.019704433497536946,\n",
       "   'fullscore': 0.5731166201861929}]}"
      ]
     },
     "execution_count": 7,
     "metadata": {},
     "output_type": "execute_result"
    }
   ],
   "source": [
    "results"
   ]
  },
  {
   "cell_type": "code",
   "execution_count": 8,
   "metadata": {},
   "outputs": [
    {
     "name": "stdout",
     "output_type": "stream",
     "text": [
      "creating new svd\n"
     ]
    }
   ],
   "source": [
    "vectors, results = bunch.svd(keyed_vectors=True) # using gensims' KeyedVectors, https://radimrehurek.com/gensim/models/keyedvectors.html"
   ]
  },
  {
   "cell_type": "code",
   "execution_count": 9,
   "metadata": {},
   "outputs": [
    {
     "data": {
      "text/plain": [
       "{'micro': 0.3928535017769153,\n",
       " 'macro': 0.5595357109445663,\n",
       " 'results': [{'name': 'en_bruni_men',\n",
       "   'score': 0.2767574659277407,\n",
       "   'oov': 0.022,\n",
       "   'fullscore': 0.2706688016773304},\n",
       "  {'name': 'en_ws353',\n",
       "   'score': 0.6510955349164682,\n",
       "   'oov': 0.014164305949008499,\n",
       "   'fullscore': 0.641873218557878},\n",
       "  {'name': 'en_ws353_relatedness',\n",
       "   'score': 0.6014764224460522,\n",
       "   'oov': 0.003968253968253968,\n",
       "   'fullscore': 0.5990896112458695},\n",
       "  {'name': 'en_radinsky_mturk',\n",
       "   'score': 0.6082736732219536,\n",
       "   'oov': 0.017421602787456445,\n",
       "   'fullscore': 0.5976765709010137},\n",
       "  {'name': 'en_luong_rare',\n",
       "   'score': 0.49775691948405365,\n",
       "   'oov': 0.6617502458210422,\n",
       "   'fullscore': 0.1683661556563564},\n",
       "  {'name': 'en_ws353_similarity',\n",
       "   'score': 0.72185424967113,\n",
       "   'oov': 0.019704433497536946,\n",
       "   'fullscore': 0.7076305206135708}]}"
      ]
     },
     "execution_count": 9,
     "metadata": {},
     "output_type": "execute_result"
    }
   ],
   "source": [
    "results"
   ]
  },
  {
   "cell_type": "code",
   "execution_count": 10,
   "metadata": {},
   "outputs": [
    {
     "data": {
      "text/plain": [
       "{'name': 'en_ws353',\n",
       " 'score': 0.6510955349164682,\n",
       " 'oov': 0.014164305949008499,\n",
       " 'fullscore': 0.641873218557878}"
      ]
     },
     "execution_count": 10,
     "metadata": {},
     "output_type": "execute_result"
    }
   ],
   "source": [
    "results['results'][1]"
   ]
  },
  {
   "cell_type": "code",
   "execution_count": 11,
   "metadata": {},
   "outputs": [
    {
     "data": {
      "text/plain": [
       "[('vienna', 0.6323208808898926),\n",
       " ('frankfurt', 0.5965485572814941),\n",
       " ('munich', 0.5737138986587524),\n",
       " ('amsterdam', 0.5511572360992432),\n",
       " ('stockholm', 0.5423270463943481),\n",
       " ('brussels', 0.5251672267913818),\n",
       " ('dusseldorf', 0.513325572013855),\n",
       " ('budapest', 0.4937877058982849),\n",
       " ('paris', 0.4913218319416046),\n",
       " ('zurich', 0.4875534176826477)]"
      ]
     },
     "execution_count": 11,
     "metadata": {},
     "output_type": "execute_result"
    }
   ],
   "source": [
    "vectors.most_similar('berlin')"
   ]
  },
  {
   "cell_type": "code",
   "execution_count": 12,
   "metadata": {},
   "outputs": [
    {
     "data": {
      "text/plain": [
       "[OrderedDict([('id', 2),\n",
       "              ('method', 'svd'),\n",
       "              ('pair_args__window', 2.0),\n",
       "              ('pair_args__dynamic_window', 'deter'),\n",
       "              ('pair_args__decay_rate', 0.25),\n",
       "              ('pair_args__delete_oov', 1.0),\n",
       "              ('pair_args__subsample', 'deter'),\n",
       "              ('pair_args__subsample_factor', 1e-05),\n",
       "              ('micro_results', 0.3928535017769153),\n",
       "              ('macro_results', 0.5595357109445663),\n",
       "              ('en_bruni_men_score', 0.2767574659277407),\n",
       "              ('en_bruni_men_oov', 0.022),\n",
       "              ('en_bruni_men_fullscore', 0.2706688016773304),\n",
       "              ('en_ws353_score', 0.6510955349164682),\n",
       "              ('en_ws353_oov', 0.014164305949008499),\n",
       "              ('en_ws353_fullscore', 0.641873218557878),\n",
       "              ('en_ws353_relatedness_score', 0.6014764224460522),\n",
       "              ('en_ws353_relatedness_oov', 0.003968253968253968),\n",
       "              ('en_ws353_relatedness_fullscore', 0.5990896112458695),\n",
       "              ('en_radinsky_mturk_score', 0.6082736732219536),\n",
       "              ('en_radinsky_mturk_oov', 0.017421602787456445),\n",
       "              ('en_radinsky_mturk_fullscore', 0.5976765709010137),\n",
       "              ('en_luong_rare_score', 0.49775691948405365),\n",
       "              ('en_luong_rare_oov', 0.6617502458210422),\n",
       "              ('en_luong_rare_fullscore', 0.1683661556563564),\n",
       "              ('en_ws353_similarity_score', 0.72185424967113),\n",
       "              ('en_ws353_similarity_oov', 0.019704433497536946),\n",
       "              ('en_ws353_similarity_fullscore', 0.7076305206135708),\n",
       "              ('keyed_vectors', 1.0)]),\n",
       " OrderedDict([('id', 1),\n",
       "              ('method', 'pmi'),\n",
       "              ('pair_args__window', 2.0),\n",
       "              ('pair_args__dynamic_window', 'deter'),\n",
       "              ('pair_args__decay_rate', 0.25),\n",
       "              ('pair_args__delete_oov', 1.0),\n",
       "              ('pair_args__subsample', 'deter'),\n",
       "              ('pair_args__subsample_factor', 1e-05),\n",
       "              ('micro_results', 0.267872457927308),\n",
       "              ('macro_results', 0.4341605801936888),\n",
       "              ('en_bruni_men_score', 0.15717451527190343),\n",
       "              ('en_bruni_men_oov', 0.022),\n",
       "              ('en_bruni_men_fullscore', 0.15371667593592156),\n",
       "              ('en_ws353_score', 0.48913996990928227),\n",
       "              ('en_ws353_oov', 0.014164305949008499),\n",
       "              ('en_ws353_fullscore', 0.48221164172359837),\n",
       "              ('en_ws353_relatedness_score', 0.4576555965263546),\n",
       "              ('en_ws353_relatedness_oov', 0.003968253968253968),\n",
       "              ('en_ws353_relatedness_fullscore', 0.45583950288934527),\n",
       "              ('en_radinsky_mturk_score', 0.5751285213411367),\n",
       "              ('en_radinsky_mturk_oov', 0.017421602787456445),\n",
       "              ('en_radinsky_mturk_fullscore', 0.5651088606905943),\n",
       "              ('en_luong_rare_score', 0.3412283258632189),\n",
       "              ('en_luong_rare_oov', 0.6617502458210422),\n",
       "              ('en_luong_rare_fullscore', 0.11542039734213108),\n",
       "              ('en_ws353_similarity_score', 0.584636552250237),\n",
       "              ('en_ws353_similarity_oov', 0.019704433497536946),\n",
       "              ('en_ws353_similarity_fullscore', 0.5731166201861929),\n",
       "              ('keyed_vectors', None)])]"
      ]
     },
     "execution_count": 12,
     "metadata": {},
     "output_type": "execute_result"
    }
   ],
   "source": [
    "bunch.results() # all results are saved in a sqlite database"
   ]
  },
  {
   "cell_type": "code",
   "execution_count": null,
   "metadata": {},
   "outputs": [],
   "source": []
  },
  {
   "cell_type": "code",
   "execution_count": null,
   "metadata": {},
   "outputs": [],
   "source": []
  }
 ],
 "metadata": {
  "kernelspec": {
   "display_name": "Python 3",
   "language": "python",
   "name": "python3"
  },
  "language_info": {
   "codemirror_mode": {
    "name": "ipython",
    "version": 3
   },
   "file_extension": ".py",
   "mimetype": "text/x-python",
   "name": "python",
   "nbconvert_exporter": "python",
   "pygments_lexer": "ipython3",
   "version": "3.6.8"
  }
 },
 "nbformat": 4,
 "nbformat_minor": 2
}
